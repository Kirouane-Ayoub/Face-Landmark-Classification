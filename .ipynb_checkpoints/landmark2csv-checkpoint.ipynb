{
 "cells": [
  {
   "cell_type": "code",
   "execution_count": 1,
   "id": "incorrect-sunset",
   "metadata": {
    "id": "incorrect-sunset"
   },
   "outputs": [],
   "source": [
    "import mediapipe as mp \n",
    "import cv2 \n",
    "import numpy as np "
   ]
  },
  {
   "cell_type": "code",
   "execution_count": 2,
   "id": "classical-cleanup",
   "metadata": {
    "id": "classical-cleanup"
   },
   "outputs": [],
   "source": [
    "mp_drawing = mp.solutions.drawing_utils\n",
    "mp_holistic = mp.solutions.holistic"
   ]
  },
  {
   "cell_type": "code",
   "execution_count": 3,
   "id": "exotic-malpractice",
   "metadata": {
    "id": "exotic-malpractice",
    "scrolled": true
   },
   "outputs": [
    {
     "name": "stderr",
     "output_type": "stream",
     "text": [
      "INFO: Created TensorFlow Lite XNNPACK delegate for CPU.\n"
     ]
    }
   ],
   "source": [
    "cap = cv2.VideoCapture(\"http://192.168.8.138:8080/video\")\n",
    "with mp_holistic.Holistic(min_detection_confidence=0.5 , min_tracking_confidence=0.5) as holistic :\n",
    "    while True:\n",
    "        \n",
    "        # Capture frame-by-frame\n",
    "        ret, frame = cap.read()\n",
    "        \n",
    "        # recolor feed BGR to RGB \n",
    "        image = cv2.cvtColor(frame , cv2.COLOR_BGR2RGB)\n",
    "        # MAKE detections\n",
    "        result = holistic.process(image)\n",
    "        # U can print result (landmarks)\n",
    "        # Recolor our image frome RGB to BGR\n",
    "        image = cv2.cvtColor(image , cv2.COLOR_RGB2BGR)\n",
    "        # draw face landmarks \n",
    "        mp_drawing.draw_landmarks(image , result.face_landmarks , mp_holistic.FACEMESH_CONTOURS , \n",
    "                                  # for landmarks\n",
    "                                 mp_drawing.DrawingSpec(color=(255,0,0) ,thickness=1 , circle_radius = 0) ,\n",
    "                                  # for connections\n",
    "                                 mp_drawing.DrawingSpec(color=(0,0,255) ,thickness=1 , circle_radius = 0) \n",
    "                                 )\n",
    "        \n",
    "        # draw pose landmaks  \n",
    "        # mp_drawing.draw_landmarks(image , result.pose_landmarks , mp_holistic.POSE_CONNECTIONS , \n",
    "        #                mp_drawing.DrawingSpec(color=(255,0,0) ,thickness=1 , circle_radius = 1) , \n",
    "        #                mp_drawing.DrawingSpec(color=(255,0,0) ,thickness=1 , circle_radius = 1))\n",
    "        \n",
    "        \n",
    "        # draw left hand landmarks \n",
    "        # mp_drawing.draw_landmarks(image , result.left_hand_landmarks , mp_holistic.HAND_CONNECTIONS)\n",
    "        \n",
    "        # draw right hand landmaks \n",
    "        \n",
    "        # mp_drawing.draw_landmarks(image , result.right_hand_landmarks , mp_holistic.HAND_CONNECTIONS)\n",
    "        \n",
    "        \n",
    "        \n",
    "        \n",
    "        # Show the captured image\n",
    "        cv2.imshow('WebCam', image)\n",
    "\n",
    "        # wait for the key and come out of the loop\n",
    "        if cv2.waitKey(1) == ord('q'):\n",
    "            break\n",
    "\n",
    "# Discussed below\n",
    "cap.release()\n",
    "cv2.destroyAllWindows()"
   ]
  },
  {
   "cell_type": "code",
   "execution_count": 4,
   "id": "suffering-canal",
   "metadata": {
    "id": "suffering-canal"
   },
   "outputs": [],
   "source": [
    "cap.release()\n",
    "cv2.destroyAllWindows()"
   ]
  },
  {
   "cell_type": "code",
   "execution_count": 5,
   "id": "sitting-telescope",
   "metadata": {
    "id": "sitting-telescope",
    "outputId": "197ef41a-3755-4677-c838-aed9625471de"
   },
   "outputs": [
    {
     "data": {
      "text/plain": [
       "468"
      ]
     },
     "execution_count": 5,
     "metadata": {},
     "output_type": "execute_result"
    }
   ],
   "source": [
    "num_cords = len(result.face_landmarks.landmark)\n",
    "num_cords"
   ]
  },
  {
   "cell_type": "code",
   "execution_count": 7,
   "id": "designing-profit",
   "metadata": {
    "id": "designing-profit"
   },
   "outputs": [],
   "source": [
    "import csv\n",
    "import os\n",
    "import numpy as np "
   ]
  },
  {
   "cell_type": "code",
   "execution_count": 8,
   "id": "appointed-suspension",
   "metadata": {
    "id": "appointed-suspension"
   },
   "outputs": [],
   "source": [
    "landmarkes = [\"class\"]\n",
    "for val in range(1 , num_cords+1) : \n",
    "    landmarkes += ['x{}'.format(val) , 'y{}'.format(val) , 'z{}'.format(val)]"
   ]
  },
  {
   "cell_type": "code",
   "execution_count": 9,
   "id": "italic-institution",
   "metadata": {
    "id": "italic-institution"
   },
   "outputs": [],
   "source": [
    "with open('file.csv' , mode='w' , newline='') as f :\n",
    "    csv_write = csv.writer(f , delimiter=',' , quotechar='\"' , quoting=csv.QUOTE_MINIMAL)\n",
    "    csv_write.writerow(landmarkes)"
   ]
  },
  {
   "cell_type": "code",
   "execution_count": 10,
   "id": "3c77e048",
   "metadata": {},
   "outputs": [],
   "source": [
    "class_name = \"Normal\""
   ]
  },
  {
   "cell_type": "code",
   "execution_count": 18,
   "id": "0478cb5f",
   "metadata": {},
   "outputs": [],
   "source": [
    "class_name = \"Happy\""
   ]
  },
  {
   "cell_type": "code",
   "execution_count": 20,
   "id": "e8196726",
   "metadata": {},
   "outputs": [],
   "source": [
    "class_name = \"Sad\""
   ]
  },
  {
   "cell_type": "code",
   "execution_count": 22,
   "id": "enormous-external",
   "metadata": {
    "id": "enormous-external"
   },
   "outputs": [],
   "source": [
    "class_name = \"Surprised\""
   ]
  },
  {
   "cell_type": "code",
   "execution_count": 24,
   "id": "1258da16",
   "metadata": {},
   "outputs": [],
   "source": [
    "class_name = \"Disgusted\""
   ]
  },
  {
   "cell_type": "code",
   "execution_count": 25,
   "id": "wrong-advocacy",
   "metadata": {
    "id": "wrong-advocacy"
   },
   "outputs": [],
   "source": [
    "cap = cv2.VideoCapture(\"http://192.168.8.138:8080/video\")\n",
    "with mp_holistic.Holistic(min_detection_confidence=0.5 , min_tracking_confidence=0.5) as holistic :\n",
    "    while True:\n",
    "        \n",
    "        # Capture frame-by-frame\n",
    "        ret, frame = cap.read()\n",
    "        \n",
    "        # recolor feed BGR to RGB \n",
    "        image = cv2.cvtColor(frame , cv2.COLOR_BGR2RGB)\n",
    "        # MAKE detections\n",
    "        result = holistic.process(image)\n",
    "        # U can print result (landmarks)\n",
    "        # Recolor our image frome RGB to BGR\n",
    "        image = cv2.cvtColor(image , cv2.COLOR_RGB2BGR)\n",
    "        # draw face landmarks \n",
    "        mp_drawing.draw_landmarks(image , result.face_landmarks , mp_holistic.FACEMESH_CONTOURS , \n",
    "                                  # for landmarks\n",
    "                                 mp_drawing.DrawingSpec(color=(255,0,0) ,thickness=1 , circle_radius = 0) ,\n",
    "                                  # for connections\n",
    "                                 mp_drawing.DrawingSpec(color=(0,0,255) ,thickness=1 , circle_radius = 0) \n",
    "                                 )\n",
    "        \n",
    "        # draw pose landmaks  \n",
    "        # mp_drawing.draw_landmarks(image , result.pose_landmarks , mp_holistic.POSE_CONNECTIONS , \n",
    "        #                mp_drawing.DrawingSpec(color=(255,0,0) ,thickness=1 , circle_radius = 1) , \n",
    "        #                mp_drawing.DrawingSpec(color=(255,0,0) ,thickness=1 , circle_radius = 1))\n",
    "        \n",
    "        \n",
    "        # draw left hand landmarks \n",
    "        # mp_drawing.draw_landmarks(image , result.left_hand_landmarks , mp_holistic.HAND_CONNECTIONS)\n",
    "        \n",
    "        # draw right hand landmaks \n",
    "        \n",
    "        # mp_drawing.draw_landmarks(image , result.right_hand_landmarks , mp_holistic.HAND_CONNECTIONS)\n",
    "        \n",
    "        \n",
    "        \n",
    "        try : \n",
    "            # extracy face landmark \n",
    "            face = result.face_landmarks.landmark\n",
    "            face_row = list(np.array([[landmark.x , landmark.y , landmark.z] for landmark in face ]).flatten())\n",
    "            \n",
    "            #append class name \n",
    "            face_row.insert(0, class_name)\n",
    "            \n",
    "            \n",
    "            \n",
    "            # export to csv\n",
    "            \n",
    "            with open('file.csv' , mode='a' , newline='') as f :\n",
    "                csv_writer = csv.writer(f , delimiter=',' , quotechar='\"' , quoting=csv.QUOTE_MINIMAL)\n",
    "                csv_writer.writerow(face_row)\n",
    "            \n",
    "            \n",
    "            \n",
    "        except: \n",
    "            pass\n",
    "        \n",
    "        \n",
    "        \n",
    "        \n",
    "        # Show the captured image\n",
    "        cv2.imshow('WebCam', image)\n",
    "\n",
    "        # wait for the key and come out of the loop\n",
    "        if cv2.waitKey(1) == ord('q'):\n",
    "            break\n",
    "\n",
    "# Discussed below\n",
    "cap.release()\n",
    "cv2.destroyAllWindows()"
   ]
  },
  {
   "cell_type": "code",
   "execution_count": 26,
   "id": "warming-disney",
   "metadata": {
    "id": "warming-disney"
   },
   "outputs": [],
   "source": [
    "import pandas as pd "
   ]
  },
  {
   "cell_type": "code",
   "execution_count": null,
   "id": "professional-software",
   "metadata": {
    "id": "professional-software",
    "outputId": "e65999f2-e794-49a3-8570-5e0f2905cc9d"
   },
   "outputs": [
    {
     "name": "stderr",
     "output_type": "stream",
     "text": [
      "/usr/local/lib/python3.9/dist-packages/sklearn/base.py:450: UserWarning: X does not have valid feature names, but LogisticRegression was fitted with feature names\n",
      "  warnings.warn(\n",
      "/usr/local/lib/python3.9/dist-packages/sklearn/base.py:450: UserWarning: X does not have valid feature names, but LogisticRegression was fitted with feature names\n",
      "  warnings.warn(\n",
      "/usr/local/lib/python3.9/dist-packages/sklearn/base.py:450: UserWarning: X does not have valid feature names, but LogisticRegression was fitted with feature names\n",
      "  warnings.warn(\n",
      "/usr/local/lib/python3.9/dist-packages/sklearn/base.py:450: UserWarning: X does not have valid feature names, but LogisticRegression was fitted with feature names\n",
      "  warnings.warn(\n",
      "/usr/local/lib/python3.9/dist-packages/sklearn/base.py:450: UserWarning: X does not have valid feature names, but LogisticRegression was fitted with feature names\n",
      "  warnings.warn(\n",
      "/usr/local/lib/python3.9/dist-packages/sklearn/base.py:450: UserWarning: X does not have valid feature names, but LogisticRegression was fitted with feature names\n",
      "  warnings.warn(\n",
      "/usr/local/lib/python3.9/dist-packages/sklearn/base.py:450: UserWarning: X does not have valid feature names, but LogisticRegression was fitted with feature names\n",
      "  warnings.warn(\n",
      "/usr/local/lib/python3.9/dist-packages/sklearn/base.py:450: UserWarning: X does not have valid feature names, but LogisticRegression was fitted with feature names\n",
      "  warnings.warn(\n",
      "/usr/local/lib/python3.9/dist-packages/sklearn/base.py:450: UserWarning: X does not have valid feature names, but LogisticRegression was fitted with feature names\n",
      "  warnings.warn(\n",
      "/usr/local/lib/python3.9/dist-packages/sklearn/base.py:450: UserWarning: X does not have valid feature names, but LogisticRegression was fitted with feature names\n",
      "  warnings.warn(\n",
      "/usr/local/lib/python3.9/dist-packages/sklearn/base.py:450: UserWarning: X does not have valid feature names, but LogisticRegression was fitted with feature names\n",
      "  warnings.warn(\n",
      "/usr/local/lib/python3.9/dist-packages/sklearn/base.py:450: UserWarning: X does not have valid feature names, but LogisticRegression was fitted with feature names\n",
      "  warnings.warn(\n",
      "/usr/local/lib/python3.9/dist-packages/sklearn/base.py:450: UserWarning: X does not have valid feature names, but LogisticRegression was fitted with feature names\n",
      "  warnings.warn(\n",
      "/usr/local/lib/python3.9/dist-packages/sklearn/base.py:450: UserWarning: X does not have valid feature names, but LogisticRegression was fitted with feature names\n",
      "  warnings.warn(\n",
      "/usr/local/lib/python3.9/dist-packages/sklearn/base.py:450: UserWarning: X does not have valid feature names, but LogisticRegression was fitted with feature names\n",
      "  warnings.warn(\n"
     ]
    }
   ],
   "source": [
    "cap = cv2.VideoCapture('/home/x/Desktop/pexels-mikhail-nilov-8410111 (online-video-cutter.com).mp4')\n",
    "with mp_holistic.Holistic(min_detection_confidence=0.5 , min_tracking_confidence=0.5) as holistic :\n",
    "    while True:\n",
    "        \n",
    "        # Capture frame-by-frame\n",
    "        ret, frame = cap.read()\n",
    "        \n",
    "        # recolor feed BGR to RGB \n",
    "        image = cv2.cvtColor(frame , cv2.COLOR_BGR2RGB)\n",
    "        # MAKE detections\n",
    "        result = holistic.process(image)\n",
    "        # U can print result (landmarks)\n",
    "        # Recolor our image frome RGB to BGR\n",
    "        image = cv2.cvtColor(image , cv2.COLOR_RGB2BGR)\n",
    "        # draw face landmarks \n",
    "        mp_drawing.draw_landmarks(image , result.face_landmarks , mp_holistic.FACEMESH_CONTOURS , \n",
    "                                  # for landmarks\n",
    "                                 mp_drawing.DrawingSpec(color=(255,0,0) ,thickness=1 , circle_radius = 0) ,\n",
    "                                  # for connections\n",
    "                                 mp_drawing.DrawingSpec(color=(0,0,255) ,thickness=1 , circle_radius = 0) \n",
    "                                 )\n",
    "        \n",
    "        # draw pose landmaks  \n",
    "        # mp_drawing.draw_landmarks(image , result.pose_landmarks , mp_holistic.POSE_CONNECTIONS , \n",
    "        #                mp_drawing.DrawingSpec(color=(255,0,0) ,thickness=1 , circle_radius = 1) , \n",
    "        #                mp_drawing.DrawingSpec(color=(255,0,0) ,thickness=1 , circle_radius = 1))\n",
    "        \n",
    "        \n",
    "        # draw left hand landmarks \n",
    "        # mp_drawing.draw_landmarks(image , result.left_hand_landmarks , mp_holistic.HAND_CONNECTIONS)\n",
    "        \n",
    "        # draw right hand landmaks \n",
    "        \n",
    "        # mp_drawing.draw_landmarks(image , result.right_hand_landmarks , mp_holistic.HAND_CONNECTIONS)\n",
    "        \n",
    "        \n",
    "        \n",
    "        try : \n",
    "            # extracy face landmark \n",
    "            face = result.face_landmarks.landmark\n",
    "            face_row = list(np.array([[landmark.x , landmark.y , landmark.z] for landmark in face ]).flatten())\n",
    "            \n",
    "            \n",
    "            \n",
    "            x = pd.DataFrame([face_row])\n",
    "            classf = model.predict(x)[0]\n",
    "            cv2.putText(image,classf, (200, 465), cv2.FONT_HERSHEY_DUPLEX , 1, (255, 255, 255), 2)\n",
    "            cv2.rectangle(image, (117,424), (548, 479), (255, 255, 255), 1)\n",
    "            print(classf)\n",
    "        except: \n",
    "            pass\n",
    "        # Show the captured image\n",
    "        cv2.imshow('WebCam', image)\n",
    "\n",
    "        # wait for the key and come out of the loop\n",
    "        if cv2.waitKey(1) == ord('q'):\n",
    "            break\n",
    "\n",
    "# Discussed below\n",
    "cap.release()\n",
    "cv2.destroyAllWindows()"
   ]
  },
  {
   "cell_type": "code",
   "execution_count": 42,
   "id": "b18a339d",
   "metadata": {},
   "outputs": [],
   "source": [
    "from lazypredict.Supervised import LazyClassifier\n",
    "from sklearn.model_selection import train_test_split"
   ]
  },
  {
   "cell_type": "code",
   "execution_count": 43,
   "id": "8297a21f",
   "metadata": {},
   "outputs": [],
   "source": [
    "model = LazyClassifier(verbose=0,ignore_warnings=True, custom_metric=None)"
   ]
  },
  {
   "cell_type": "code",
   "execution_count": 27,
   "id": "0a3173de",
   "metadata": {},
   "outputs": [],
   "source": [
    "import pandas as pd"
   ]
  },
  {
   "cell_type": "code",
   "execution_count": 28,
   "id": "97355c27",
   "metadata": {},
   "outputs": [],
   "source": [
    "data = pd.read_csv(\"file.csv\")"
   ]
  },
  {
   "cell_type": "code",
   "execution_count": 29,
   "id": "dac9ef85",
   "metadata": {},
   "outputs": [],
   "source": [
    "x = data.iloc[: , 1:]"
   ]
  },
  {
   "cell_type": "code",
   "execution_count": 30,
   "id": "10ca8f82",
   "metadata": {},
   "outputs": [],
   "source": [
    "y = data[\"class\"]"
   ]
  },
  {
   "cell_type": "code",
   "execution_count": 31,
   "id": "c9507f25",
   "metadata": {},
   "outputs": [
    {
     "data": {
      "text/plain": [
       "(851, 1404)"
      ]
     },
     "execution_count": 31,
     "metadata": {},
     "output_type": "execute_result"
    }
   ],
   "source": [
    "x.shape"
   ]
  },
  {
   "cell_type": "code",
   "execution_count": 32,
   "id": "a44a8ebc",
   "metadata": {},
   "outputs": [
    {
     "data": {
      "text/plain": [
       "(851,)"
      ]
     },
     "execution_count": 32,
     "metadata": {},
     "output_type": "execute_result"
    }
   ],
   "source": [
    "y.shape"
   ]
  },
  {
   "cell_type": "code",
   "execution_count": 44,
   "id": "d0b86546",
   "metadata": {},
   "outputs": [],
   "source": [
    "X_train, X_test, y_train, y_test = train_test_split(x, y,test_size=.2,random_state =123)"
   ]
  },
  {
   "cell_type": "code",
   "execution_count": 45,
   "id": "a4f500b3",
   "metadata": {},
   "outputs": [
    {
     "name": "stderr",
     "output_type": "stream",
     "text": [
      "100%|███████████████████████████████████████████| 29/29 [00:50<00:00,  1.73s/it]\n"
     ]
    }
   ],
   "source": [
    "models,predictions = model.fit(X_train, X_test, y_train, y_test)"
   ]
  },
  {
   "cell_type": "code",
   "execution_count": 46,
   "id": "627e1b1e",
   "metadata": {},
   "outputs": [
    {
     "name": "stdout",
     "output_type": "stream",
     "text": [
      "                               Accuracy  Balanced Accuracy ROC AUC  F1 Score  \\\n",
      "Model                                                                          \n",
      "LinearSVC                          1.00               1.00    None      1.00   \n",
      "ExtraTreesClassifier               1.00               1.00    None      1.00   \n",
      "RidgeClassifierCV                  1.00               1.00    None      1.00   \n",
      "RidgeClassifier                    1.00               1.00    None      1.00   \n",
      "LogisticRegression                 1.00               1.00    None      1.00   \n",
      "KNeighborsClassifier               1.00               1.00    None      1.00   \n",
      "LGBMClassifier                     1.00               1.00    None      1.00   \n",
      "CalibratedClassifierCV             1.00               1.00    None      1.00   \n",
      "LinearDiscriminantAnalysis         0.99               1.00    None      0.99   \n",
      "SVC                                0.99               0.99    None      0.99   \n",
      "ExtraTreeClassifier                0.99               0.99    None      0.99   \n",
      "RandomForestClassifier             0.99               0.99    None      0.99   \n",
      "PassiveAggressiveClassifier        0.99               0.98    None      0.99   \n",
      "SGDClassifier                      0.98               0.97    None      0.98   \n",
      "BaggingClassifier                  0.96               0.96    None      0.96   \n",
      "LabelPropagation                   0.96               0.96    None      0.96   \n",
      "LabelSpreading                     0.96               0.96    None      0.96   \n",
      "DecisionTreeClassifier             0.96               0.96    None      0.96   \n",
      "Perceptron                         0.96               0.94    None      0.96   \n",
      "NuSVC                              0.92               0.87    None      0.91   \n",
      "GaussianNB                         0.74               0.72    None      0.74   \n",
      "BernoulliNB                        0.72               0.70    None      0.72   \n",
      "NearestCentroid                    0.68               0.65    None      0.68   \n",
      "AdaBoostClassifier                 0.73               0.65    None      0.73   \n",
      "QuadraticDiscriminantAnalysis      0.70               0.60    None      0.66   \n",
      "DummyClassifier                    0.32               0.25    None      0.16   \n",
      "\n",
      "                               Time Taken  \n",
      "Model                                      \n",
      "LinearSVC                            1.98  \n",
      "ExtraTreesClassifier                 0.39  \n",
      "RidgeClassifierCV                    0.34  \n",
      "RidgeClassifier                      0.19  \n",
      "LogisticRegression                   0.76  \n",
      "KNeighborsClassifier                 0.28  \n",
      "LGBMClassifier                      21.03  \n",
      "CalibratedClassifierCV               8.33  \n",
      "LinearDiscriminantAnalysis           0.84  \n",
      "SVC                                  0.28  \n",
      "ExtraTreeClassifier                  0.08  \n",
      "RandomForestClassifier               1.28  \n",
      "PassiveAggressiveClassifier          0.45  \n",
      "SGDClassifier                        0.30  \n",
      "BaggingClassifier                    3.48  \n",
      "LabelPropagation                     0.18  \n",
      "LabelSpreading                       0.23  \n",
      "DecisionTreeClassifier               0.63  \n",
      "Perceptron                           0.25  \n",
      "NuSVC                                0.69  \n",
      "GaussianNB                           0.12  \n",
      "BernoulliNB                          0.17  \n",
      "NearestCentroid                      0.14  \n",
      "AdaBoostClassifier                   6.99  \n",
      "QuadraticDiscriminantAnalysis        0.47  \n",
      "DummyClassifier                      0.09  \n"
     ]
    }
   ],
   "source": [
    "print(models)"
   ]
  },
  {
   "cell_type": "code",
   "execution_count": 34,
   "id": "a983f75e",
   "metadata": {},
   "outputs": [],
   "source": [
    "from sklearn.svm import SVC"
   ]
  },
  {
   "cell_type": "code",
   "execution_count": 33,
   "id": "d7cb6e67",
   "metadata": {},
   "outputs": [],
   "source": [
    "from sklearn.linear_model import LogisticRegression"
   ]
  },
  {
   "cell_type": "code",
   "execution_count": 35,
   "id": "f8f25af8",
   "metadata": {},
   "outputs": [],
   "source": [
    "model = SVC()"
   ]
  },
  {
   "cell_type": "code",
   "execution_count": 36,
   "id": "94ae971e",
   "metadata": {},
   "outputs": [
    {
     "data": {
      "text/html": [
       "<style>#sk-container-id-1 {color: black;background-color: white;}#sk-container-id-1 pre{padding: 0;}#sk-container-id-1 div.sk-toggleable {background-color: white;}#sk-container-id-1 label.sk-toggleable__label {cursor: pointer;display: block;width: 100%;margin-bottom: 0;padding: 0.3em;box-sizing: border-box;text-align: center;}#sk-container-id-1 label.sk-toggleable__label-arrow:before {content: \"▸\";float: left;margin-right: 0.25em;color: #696969;}#sk-container-id-1 label.sk-toggleable__label-arrow:hover:before {color: black;}#sk-container-id-1 div.sk-estimator:hover label.sk-toggleable__label-arrow:before {color: black;}#sk-container-id-1 div.sk-toggleable__content {max-height: 0;max-width: 0;overflow: hidden;text-align: left;background-color: #f0f8ff;}#sk-container-id-1 div.sk-toggleable__content pre {margin: 0.2em;color: black;border-radius: 0.25em;background-color: #f0f8ff;}#sk-container-id-1 input.sk-toggleable__control:checked~div.sk-toggleable__content {max-height: 200px;max-width: 100%;overflow: auto;}#sk-container-id-1 input.sk-toggleable__control:checked~label.sk-toggleable__label-arrow:before {content: \"▾\";}#sk-container-id-1 div.sk-estimator input.sk-toggleable__control:checked~label.sk-toggleable__label {background-color: #d4ebff;}#sk-container-id-1 div.sk-label input.sk-toggleable__control:checked~label.sk-toggleable__label {background-color: #d4ebff;}#sk-container-id-1 input.sk-hidden--visually {border: 0;clip: rect(1px 1px 1px 1px);clip: rect(1px, 1px, 1px, 1px);height: 1px;margin: -1px;overflow: hidden;padding: 0;position: absolute;width: 1px;}#sk-container-id-1 div.sk-estimator {font-family: monospace;background-color: #f0f8ff;border: 1px dotted black;border-radius: 0.25em;box-sizing: border-box;margin-bottom: 0.5em;}#sk-container-id-1 div.sk-estimator:hover {background-color: #d4ebff;}#sk-container-id-1 div.sk-parallel-item::after {content: \"\";width: 100%;border-bottom: 1px solid gray;flex-grow: 1;}#sk-container-id-1 div.sk-label:hover label.sk-toggleable__label {background-color: #d4ebff;}#sk-container-id-1 div.sk-serial::before {content: \"\";position: absolute;border-left: 1px solid gray;box-sizing: border-box;top: 0;bottom: 0;left: 50%;z-index: 0;}#sk-container-id-1 div.sk-serial {display: flex;flex-direction: column;align-items: center;background-color: white;padding-right: 0.2em;padding-left: 0.2em;position: relative;}#sk-container-id-1 div.sk-item {position: relative;z-index: 1;}#sk-container-id-1 div.sk-parallel {display: flex;align-items: stretch;justify-content: center;background-color: white;position: relative;}#sk-container-id-1 div.sk-item::before, #sk-container-id-1 div.sk-parallel-item::before {content: \"\";position: absolute;border-left: 1px solid gray;box-sizing: border-box;top: 0;bottom: 0;left: 50%;z-index: -1;}#sk-container-id-1 div.sk-parallel-item {display: flex;flex-direction: column;z-index: 1;position: relative;background-color: white;}#sk-container-id-1 div.sk-parallel-item:first-child::after {align-self: flex-end;width: 50%;}#sk-container-id-1 div.sk-parallel-item:last-child::after {align-self: flex-start;width: 50%;}#sk-container-id-1 div.sk-parallel-item:only-child::after {width: 0;}#sk-container-id-1 div.sk-dashed-wrapped {border: 1px dashed gray;margin: 0 0.4em 0.5em 0.4em;box-sizing: border-box;padding-bottom: 0.4em;background-color: white;}#sk-container-id-1 div.sk-label label {font-family: monospace;font-weight: bold;display: inline-block;line-height: 1.2em;}#sk-container-id-1 div.sk-label-container {text-align: center;}#sk-container-id-1 div.sk-container {/* jupyter's `normalize.less` sets `[hidden] { display: none; }` but bootstrap.min.css set `[hidden] { display: none !important; }` so we also need the `!important` here to be able to override the default hidden behavior on the sphinx rendered scikit-learn.org. See: https://github.com/scikit-learn/scikit-learn/issues/21755 */display: inline-block !important;position: relative;}#sk-container-id-1 div.sk-text-repr-fallback {display: none;}</style><div id=\"sk-container-id-1\" class=\"sk-top-container\"><div class=\"sk-text-repr-fallback\"><pre>SVC()</pre><b>In a Jupyter environment, please rerun this cell to show the HTML representation or trust the notebook. <br />On GitHub, the HTML representation is unable to render, please try loading this page with nbviewer.org.</b></div><div class=\"sk-container\" hidden><div class=\"sk-item\"><div class=\"sk-estimator sk-toggleable\"><input class=\"sk-toggleable__control sk-hidden--visually\" id=\"sk-estimator-id-1\" type=\"checkbox\" checked><label for=\"sk-estimator-id-1\" class=\"sk-toggleable__label sk-toggleable__label-arrow\">SVC</label><div class=\"sk-toggleable__content\"><pre>SVC()</pre></div></div></div></div></div>"
      ],
      "text/plain": [
       "SVC()"
      ]
     },
     "execution_count": 36,
     "metadata": {},
     "output_type": "execute_result"
    }
   ],
   "source": [
    "model.fit(x,y)"
   ]
  },
  {
   "cell_type": "code",
   "execution_count": 37,
   "id": "6e45f6d3",
   "metadata": {},
   "outputs": [
    {
     "data": {
      "text/plain": [
       "0.8672150411280846"
      ]
     },
     "execution_count": 37,
     "metadata": {},
     "output_type": "execute_result"
    }
   ],
   "source": [
    "model.score(x,y)"
   ]
  },
  {
   "cell_type": "code",
   "execution_count": 38,
   "id": "37cc2ffe",
   "metadata": {},
   "outputs": [],
   "source": [
    "model1 = LogisticRegression()"
   ]
  },
  {
   "cell_type": "code",
   "execution_count": 39,
   "id": "3c27657b",
   "metadata": {},
   "outputs": [
    {
     "name": "stderr",
     "output_type": "stream",
     "text": [
      "/home/mrx/.local/lib/python3.9/site-packages/sklearn/linear_model/_logistic.py:458: ConvergenceWarning: lbfgs failed to converge (status=1):\n",
      "STOP: TOTAL NO. of ITERATIONS REACHED LIMIT.\n",
      "\n",
      "Increase the number of iterations (max_iter) or scale the data as shown in:\n",
      "    https://scikit-learn.org/stable/modules/preprocessing.html\n",
      "Please also refer to the documentation for alternative solver options:\n",
      "    https://scikit-learn.org/stable/modules/linear_model.html#logistic-regression\n",
      "  n_iter_i = _check_optimize_result(\n"
     ]
    },
    {
     "data": {
      "text/html": [
       "<style>#sk-container-id-2 {color: black;background-color: white;}#sk-container-id-2 pre{padding: 0;}#sk-container-id-2 div.sk-toggleable {background-color: white;}#sk-container-id-2 label.sk-toggleable__label {cursor: pointer;display: block;width: 100%;margin-bottom: 0;padding: 0.3em;box-sizing: border-box;text-align: center;}#sk-container-id-2 label.sk-toggleable__label-arrow:before {content: \"▸\";float: left;margin-right: 0.25em;color: #696969;}#sk-container-id-2 label.sk-toggleable__label-arrow:hover:before {color: black;}#sk-container-id-2 div.sk-estimator:hover label.sk-toggleable__label-arrow:before {color: black;}#sk-container-id-2 div.sk-toggleable__content {max-height: 0;max-width: 0;overflow: hidden;text-align: left;background-color: #f0f8ff;}#sk-container-id-2 div.sk-toggleable__content pre {margin: 0.2em;color: black;border-radius: 0.25em;background-color: #f0f8ff;}#sk-container-id-2 input.sk-toggleable__control:checked~div.sk-toggleable__content {max-height: 200px;max-width: 100%;overflow: auto;}#sk-container-id-2 input.sk-toggleable__control:checked~label.sk-toggleable__label-arrow:before {content: \"▾\";}#sk-container-id-2 div.sk-estimator input.sk-toggleable__control:checked~label.sk-toggleable__label {background-color: #d4ebff;}#sk-container-id-2 div.sk-label input.sk-toggleable__control:checked~label.sk-toggleable__label {background-color: #d4ebff;}#sk-container-id-2 input.sk-hidden--visually {border: 0;clip: rect(1px 1px 1px 1px);clip: rect(1px, 1px, 1px, 1px);height: 1px;margin: -1px;overflow: hidden;padding: 0;position: absolute;width: 1px;}#sk-container-id-2 div.sk-estimator {font-family: monospace;background-color: #f0f8ff;border: 1px dotted black;border-radius: 0.25em;box-sizing: border-box;margin-bottom: 0.5em;}#sk-container-id-2 div.sk-estimator:hover {background-color: #d4ebff;}#sk-container-id-2 div.sk-parallel-item::after {content: \"\";width: 100%;border-bottom: 1px solid gray;flex-grow: 1;}#sk-container-id-2 div.sk-label:hover label.sk-toggleable__label {background-color: #d4ebff;}#sk-container-id-2 div.sk-serial::before {content: \"\";position: absolute;border-left: 1px solid gray;box-sizing: border-box;top: 0;bottom: 0;left: 50%;z-index: 0;}#sk-container-id-2 div.sk-serial {display: flex;flex-direction: column;align-items: center;background-color: white;padding-right: 0.2em;padding-left: 0.2em;position: relative;}#sk-container-id-2 div.sk-item {position: relative;z-index: 1;}#sk-container-id-2 div.sk-parallel {display: flex;align-items: stretch;justify-content: center;background-color: white;position: relative;}#sk-container-id-2 div.sk-item::before, #sk-container-id-2 div.sk-parallel-item::before {content: \"\";position: absolute;border-left: 1px solid gray;box-sizing: border-box;top: 0;bottom: 0;left: 50%;z-index: -1;}#sk-container-id-2 div.sk-parallel-item {display: flex;flex-direction: column;z-index: 1;position: relative;background-color: white;}#sk-container-id-2 div.sk-parallel-item:first-child::after {align-self: flex-end;width: 50%;}#sk-container-id-2 div.sk-parallel-item:last-child::after {align-self: flex-start;width: 50%;}#sk-container-id-2 div.sk-parallel-item:only-child::after {width: 0;}#sk-container-id-2 div.sk-dashed-wrapped {border: 1px dashed gray;margin: 0 0.4em 0.5em 0.4em;box-sizing: border-box;padding-bottom: 0.4em;background-color: white;}#sk-container-id-2 div.sk-label label {font-family: monospace;font-weight: bold;display: inline-block;line-height: 1.2em;}#sk-container-id-2 div.sk-label-container {text-align: center;}#sk-container-id-2 div.sk-container {/* jupyter's `normalize.less` sets `[hidden] { display: none; }` but bootstrap.min.css set `[hidden] { display: none !important; }` so we also need the `!important` here to be able to override the default hidden behavior on the sphinx rendered scikit-learn.org. See: https://github.com/scikit-learn/scikit-learn/issues/21755 */display: inline-block !important;position: relative;}#sk-container-id-2 div.sk-text-repr-fallback {display: none;}</style><div id=\"sk-container-id-2\" class=\"sk-top-container\"><div class=\"sk-text-repr-fallback\"><pre>LogisticRegression()</pre><b>In a Jupyter environment, please rerun this cell to show the HTML representation or trust the notebook. <br />On GitHub, the HTML representation is unable to render, please try loading this page with nbviewer.org.</b></div><div class=\"sk-container\" hidden><div class=\"sk-item\"><div class=\"sk-estimator sk-toggleable\"><input class=\"sk-toggleable__control sk-hidden--visually\" id=\"sk-estimator-id-2\" type=\"checkbox\" checked><label for=\"sk-estimator-id-2\" class=\"sk-toggleable__label sk-toggleable__label-arrow\">LogisticRegression</label><div class=\"sk-toggleable__content\"><pre>LogisticRegression()</pre></div></div></div></div></div>"
      ],
      "text/plain": [
       "LogisticRegression()"
      ]
     },
     "execution_count": 39,
     "metadata": {},
     "output_type": "execute_result"
    }
   ],
   "source": [
    "model1.fit(x,y)"
   ]
  },
  {
   "cell_type": "code",
   "execution_count": 40,
   "id": "b7a871cb",
   "metadata": {},
   "outputs": [
    {
     "data": {
      "text/plain": [
       "0.9482961222091657"
      ]
     },
     "execution_count": 40,
     "metadata": {},
     "output_type": "execute_result"
    }
   ],
   "source": [
    "model1.score(x,y)"
   ]
  },
  {
   "cell_type": "code",
   "execution_count": 27,
   "id": "79cdbc73",
   "metadata": {},
   "outputs": [],
   "source": [
    "from sklearn.metrics import confusion_matrix , ConfusionMatrixDisplay"
   ]
  },
  {
   "cell_type": "code",
   "execution_count": 67,
   "id": "22cd3db9",
   "metadata": {},
   "outputs": [],
   "source": [
    "yhat = model.predict(x)"
   ]
  },
  {
   "cell_type": "code",
   "execution_count": 78,
   "id": "dfb1cf2b",
   "metadata": {},
   "outputs": [],
   "source": [
    "cm = confusion_matrix(y , yhat)"
   ]
  },
  {
   "cell_type": "code",
   "execution_count": 28,
   "id": "27d83ba9",
   "metadata": {},
   "outputs": [],
   "source": [
    "yhat1 = model1.predict(x)"
   ]
  },
  {
   "cell_type": "code",
   "execution_count": 29,
   "id": "6bafbdc6",
   "metadata": {},
   "outputs": [],
   "source": [
    "cm1 = confusion_matrix(y , yhat1)"
   ]
  },
  {
   "cell_type": "code",
   "execution_count": 30,
   "id": "ab98e312",
   "metadata": {},
   "outputs": [
    {
     "data": {
      "text/plain": [
       "<AxesSubplot: >"
      ]
     },
     "execution_count": 30,
     "metadata": {},
     "output_type": "execute_result"
    },
    {
     "data": {
      "image/png": "[encoded data removed]",
      "text/plain": [
       "<Figure size 640x480 with 2 Axes>"
      ]
     },
     "metadata": {},
     "output_type": "display_data"
    }
   ],
   "source": [
    "import seaborn as sns\n",
    "sns.heatmap(cm1, annot=True)"
   ]
  },
  {
   "cell_type": "code",
   "execution_count": 71,
   "id": "f6926d87",
   "metadata": {},
   "outputs": [
    {
     "data": {
      "text/plain": [
       "<AxesSubplot: >"
      ]
     },
     "execution_count": 71,
     "metadata": {},
     "output_type": "execute_result"
    },
    {
     "data": {
      "image/png": "[encoded data removed]",
      "text/plain": [
       "<Figure size 640x480 with 2 Axes>"
      ]
     },
     "metadata": {},
     "output_type": "display_data"
    }
   ],
   "source": [
    "import seaborn as sns\n",
    "sns.heatmap(cm, annot=True)"
   ]
  },
  {
   "cell_type": "code",
   "execution_count": 73,
   "id": "63bb67e4",
   "metadata": {},
   "outputs": [],
   "source": [
    "disp = ConfusionMatrixDisplay(confusion_matrix=cm,\n",
    "                         display_labels=model.classes_)"
   ]
  },
  {
   "cell_type": "code",
   "execution_count": 31,
   "id": "612ccd2a",
   "metadata": {},
   "outputs": [],
   "source": [
    "disp1 = ConfusionMatrixDisplay(confusion_matrix=cm1,\n",
    "                         display_labels=model1.classes_)"
   ]
  },
  {
   "cell_type": "code",
   "execution_count": 32,
   "id": "4117c282",
   "metadata": {},
   "outputs": [
    {
     "data": {
      "text/plain": [
       "<sklearn.metrics._plot.confusion_matrix.ConfusionMatrixDisplay at 0x7f64a40a3700>"
      ]
     },
     "execution_count": 32,
     "metadata": {},
     "output_type": "execute_result"
    },
    {
     "data": {
      "image/png": "[encoded data removed]",
      "text/plain": [
       "<Figure size 640x480 with 2 Axes>"
      ]
     },
     "metadata": {},
     "output_type": "display_data"
    }
   ],
   "source": [
    "disp1.plot()"
   ]
  },
  {
   "cell_type": "code",
   "execution_count": null,
   "id": "e6aba4c2",
   "metadata": {},
   "outputs": [],
   "source": []
  },
  {
   "cell_type": "code",
   "execution_count": 74,
   "id": "65f49bc8",
   "metadata": {},
   "outputs": [
    {
     "data": {
      "text/plain": [
       "<sklearn.metrics._plot.confusion_matrix.ConfusionMatrixDisplay at 0x7f91400c4a30>"
      ]
     },
     "execution_count": 74,
     "metadata": {},
     "output_type": "execute_result"
    },
    {
     "data": {
      "image/png": "[encoded data removed]",
      "text/plain": [
       "<Figure size 640x480 with 2 Axes>"
      ]
     },
     "metadata": {},
     "output_type": "display_data"
    }
   ],
   "source": [
    "disp.plot()"
   ]
  },
  {
   "cell_type": "code",
   "execution_count": 47,
   "id": "470a3558",
   "metadata": {},
   "outputs": [],
   "source": [
    "from sklearn.neighbors import KNeighborsClassifier"
   ]
  },
  {
   "cell_type": "code",
   "execution_count": 48,
   "id": "be9a0892",
   "metadata": {},
   "outputs": [],
   "source": [
    "knn = KNeighborsClassifier()"
   ]
  },
  {
   "cell_type": "code",
   "execution_count": 49,
   "id": "3f058d65",
   "metadata": {},
   "outputs": [
    {
     "data": {
      "text/html": [
       "<style>#sk-container-id-3 {color: black;background-color: white;}#sk-container-id-3 pre{padding: 0;}#sk-container-id-3 div.sk-toggleable {background-color: white;}#sk-container-id-3 label.sk-toggleable__label {cursor: pointer;display: block;width: 100%;margin-bottom: 0;padding: 0.3em;box-sizing: border-box;text-align: center;}#sk-container-id-3 label.sk-toggleable__label-arrow:before {content: \"▸\";float: left;margin-right: 0.25em;color: #696969;}#sk-container-id-3 label.sk-toggleable__label-arrow:hover:before {color: black;}#sk-container-id-3 div.sk-estimator:hover label.sk-toggleable__label-arrow:before {color: black;}#sk-container-id-3 div.sk-toggleable__content {max-height: 0;max-width: 0;overflow: hidden;text-align: left;background-color: #f0f8ff;}#sk-container-id-3 div.sk-toggleable__content pre {margin: 0.2em;color: black;border-radius: 0.25em;background-color: #f0f8ff;}#sk-container-id-3 input.sk-toggleable__control:checked~div.sk-toggleable__content {max-height: 200px;max-width: 100%;overflow: auto;}#sk-container-id-3 input.sk-toggleable__control:checked~label.sk-toggleable__label-arrow:before {content: \"▾\";}#sk-container-id-3 div.sk-estimator input.sk-toggleable__control:checked~label.sk-toggleable__label {background-color: #d4ebff;}#sk-container-id-3 div.sk-label input.sk-toggleable__control:checked~label.sk-toggleable__label {background-color: #d4ebff;}#sk-container-id-3 input.sk-hidden--visually {border: 0;clip: rect(1px 1px 1px 1px);clip: rect(1px, 1px, 1px, 1px);height: 1px;margin: -1px;overflow: hidden;padding: 0;position: absolute;width: 1px;}#sk-container-id-3 div.sk-estimator {font-family: monospace;background-color: #f0f8ff;border: 1px dotted black;border-radius: 0.25em;box-sizing: border-box;margin-bottom: 0.5em;}#sk-container-id-3 div.sk-estimator:hover {background-color: #d4ebff;}#sk-container-id-3 div.sk-parallel-item::after {content: \"\";width: 100%;border-bottom: 1px solid gray;flex-grow: 1;}#sk-container-id-3 div.sk-label:hover label.sk-toggleable__label {background-color: #d4ebff;}#sk-container-id-3 div.sk-serial::before {content: \"\";position: absolute;border-left: 1px solid gray;box-sizing: border-box;top: 0;bottom: 0;left: 50%;z-index: 0;}#sk-container-id-3 div.sk-serial {display: flex;flex-direction: column;align-items: center;background-color: white;padding-right: 0.2em;padding-left: 0.2em;position: relative;}#sk-container-id-3 div.sk-item {position: relative;z-index: 1;}#sk-container-id-3 div.sk-parallel {display: flex;align-items: stretch;justify-content: center;background-color: white;position: relative;}#sk-container-id-3 div.sk-item::before, #sk-container-id-3 div.sk-parallel-item::before {content: \"\";position: absolute;border-left: 1px solid gray;box-sizing: border-box;top: 0;bottom: 0;left: 50%;z-index: -1;}#sk-container-id-3 div.sk-parallel-item {display: flex;flex-direction: column;z-index: 1;position: relative;background-color: white;}#sk-container-id-3 div.sk-parallel-item:first-child::after {align-self: flex-end;width: 50%;}#sk-container-id-3 div.sk-parallel-item:last-child::after {align-self: flex-start;width: 50%;}#sk-container-id-3 div.sk-parallel-item:only-child::after {width: 0;}#sk-container-id-3 div.sk-dashed-wrapped {border: 1px dashed gray;margin: 0 0.4em 0.5em 0.4em;box-sizing: border-box;padding-bottom: 0.4em;background-color: white;}#sk-container-id-3 div.sk-label label {font-family: monospace;font-weight: bold;display: inline-block;line-height: 1.2em;}#sk-container-id-3 div.sk-label-container {text-align: center;}#sk-container-id-3 div.sk-container {/* jupyter's `normalize.less` sets `[hidden] { display: none; }` but bootstrap.min.css set `[hidden] { display: none !important; }` so we also need the `!important` here to be able to override the default hidden behavior on the sphinx rendered scikit-learn.org. See: https://github.com/scikit-learn/scikit-learn/issues/21755 */display: inline-block !important;position: relative;}#sk-container-id-3 div.sk-text-repr-fallback {display: none;}</style><div id=\"sk-container-id-3\" class=\"sk-top-container\"><div class=\"sk-text-repr-fallback\"><pre>KNeighborsClassifier()</pre><b>In a Jupyter environment, please rerun this cell to show the HTML representation or trust the notebook. <br />On GitHub, the HTML representation is unable to render, please try loading this page with nbviewer.org.</b></div><div class=\"sk-container\" hidden><div class=\"sk-item\"><div class=\"sk-estimator sk-toggleable\"><input class=\"sk-toggleable__control sk-hidden--visually\" id=\"sk-estimator-id-3\" type=\"checkbox\" checked><label for=\"sk-estimator-id-3\" class=\"sk-toggleable__label sk-toggleable__label-arrow\">KNeighborsClassifier</label><div class=\"sk-toggleable__content\"><pre>KNeighborsClassifier()</pre></div></div></div></div></div>"
      ],
      "text/plain": [
       "KNeighborsClassifier()"
      ]
     },
     "execution_count": 49,
     "metadata": {},
     "output_type": "execute_result"
    }
   ],
   "source": [
    "knn.fit(x,y)"
   ]
  },
  {
   "cell_type": "code",
   "execution_count": 50,
   "id": "576b8cb2",
   "metadata": {},
   "outputs": [
    {
     "data": {
      "text/plain": [
       "1.0"
      ]
     },
     "execution_count": 50,
     "metadata": {},
     "output_type": "execute_result"
    }
   ],
   "source": [
    "knn.score(x,y)"
   ]
  },
  {
   "cell_type": "code",
   "execution_count": 51,
   "id": "67c7b81a",
   "metadata": {},
   "outputs": [
    {
     "data": {
      "text/plain": [
       "['KNN.joblib']"
      ]
     },
     "execution_count": 51,
     "metadata": {},
     "output_type": "execute_result"
    }
   ],
   "source": [
    "from joblib import dump, load\n",
    "dump(knn, \"KNN.joblib\") "
   ]
  },
  {
   "cell_type": "code",
   "execution_count": 41,
   "id": "4f0f8d27",
   "metadata": {},
   "outputs": [
    {
     "data": {
      "text/plain": [
       "['LogisticRegression.joblib']"
      ]
     },
     "execution_count": 41,
     "metadata": {},
     "output_type": "execute_result"
    }
   ],
   "source": [
    "from joblib import dump, load\n",
    "dump(model1, \"LogisticRegression.joblib\") "
   ]
  },
  {
   "cell_type": "code",
   "execution_count": 34,
   "id": "33e11a37",
   "metadata": {},
   "outputs": [],
   "source": [
    "testmodel = load(\"LogisticRegression.joblib\")"
   ]
  },
  {
   "cell_type": "code",
   "execution_count": 100,
   "id": "c9c4976d",
   "metadata": {
    "collapsed": true
   },
   "outputs": [
    {
     "data": {
      "text/plain": [
       "array(['Happy', 'Happy', 'Happy', 'Happy', 'Happy', 'Happy', 'Happy',\n",
       "       'Happy', 'Happy', 'Happy', 'Happy', 'Happy', 'Happy', 'Happy',\n",
       "       'Happy', 'Happy', 'Happy', 'Happy', 'Happy', 'Happy', 'Happy',\n",
       "       'Happy', 'Happy', 'Happy', 'Happy', 'Happy', 'Happy', 'Happy',\n",
       "       'Happy', 'Happy', 'Happy', 'Happy', 'Happy', 'Happy', 'Happy',\n",
       "       'Happy', 'Happy', 'Happy', 'Happy', 'Happy', 'Happy', 'Happy',\n",
       "       'Happy', 'Happy', 'Happy', 'Happy', 'Happy', 'Happy', 'Happy',\n",
       "       'Happy', 'Happy', 'Happy', 'Happy', 'Happy', 'Happy', 'Happy',\n",
       "       'Happy', 'Happy', 'Happy', 'Happy', 'Happy', 'Happy', 'Happy',\n",
       "       'Happy', 'Happy', 'Happy', 'Happy', 'Happy', 'Happy', 'Happy',\n",
       "       'Happy', 'Happy', 'Happy', 'Happy', 'Happy', 'Happy', 'Happy',\n",
       "       'Happy', 'Happy', 'Happy', 'Happy', 'Happy', 'Happy', 'Happy',\n",
       "       'Happy', 'Happy', 'Happy', 'Happy', 'Happy', 'Happy', 'Happy',\n",
       "       'Happy', 'Happy', 'Happy', 'Happy', 'Happy', 'Happy', 'Happy',\n",
       "       'Happy', 'Happy', 'Happy', 'Happy', 'Disgusted', 'Happy', 'Happy',\n",
       "       'Happy', 'Happy', 'Happy', 'Happy', 'Happy', 'Happy', 'Happy',\n",
       "       'Happy', 'Happy', 'Happy', 'Happy', 'Happy', 'Happy', 'Happy',\n",
       "       'Happy', 'Happy', 'Happy', 'Happy', 'Happy', 'Happy', 'Happy',\n",
       "       'Happy', 'Happy', 'Happy', 'Happy', 'Happy', 'Happy', 'Surprised',\n",
       "       'Surprised', 'Surprised', 'Surprised', 'Surprised', 'Surprised',\n",
       "       'Surprised', 'Surprised', 'Surprised', 'Surprised', 'Surprised',\n",
       "       'Surprised', 'Surprised', 'Surprised', 'Surprised', 'Surprised',\n",
       "       'Sad', 'Sad', 'Sad', 'Sad', 'Sad', 'Sad', 'Sad', 'Sad', 'Sad',\n",
       "       'Sad', 'Sad', 'Sad', 'Sad', 'Sad', 'Sad', 'Sad', 'Sad', 'Sad',\n",
       "       'Sad', 'Sad', 'Sad', 'Sad', 'Sad', 'Sad', 'Sad', 'Sad', 'Sad',\n",
       "       'Sad', 'Sad', 'Sad', 'Sad', 'Sad', 'Sad', 'Sad', 'Sad', 'Sad',\n",
       "       'Sad', 'Sad', 'Sad', 'Sad', 'Sad', 'Sad', 'Sad', 'Sad', 'Sad',\n",
       "       'Sad', 'Sad', 'Sad', 'Sad', 'Sad', 'Sad', 'Sad', 'Sad', 'Sad',\n",
       "       'Sad', 'Sad', 'Sad', 'Sad', 'Sad', 'Sad', 'Sad', 'Sad', 'Sad',\n",
       "       'Sad', 'Sad', 'Sad', 'Sad', 'Sad', 'Sad', 'Sad', 'Sad', 'Sad',\n",
       "       'Sad', 'Sad', 'Sad', 'Sad', 'Sad', 'Sad', 'Sad', 'Sad', 'Sad',\n",
       "       'Sad', 'Sad', 'Sad', 'Sad', 'Sad', 'Sad', 'Sad', 'Sad', 'Sad',\n",
       "       'Sad', 'Sad', 'Sad', 'Sad', 'Sad', 'Sad', 'Sad', 'Sad', 'Sad',\n",
       "       'Surprised', 'Surprised', 'Surprised', 'Surprised', 'Surprised',\n",
       "       'Surprised', 'Surprised', 'Surprised', 'Surprised', 'Surprised',\n",
       "       'Surprised', 'Surprised', 'Surprised', 'Surprised', 'Surprised',\n",
       "       'Surprised', 'Surprised', 'Surprised', 'Surprised', 'Surprised',\n",
       "       'Surprised', 'Surprised', 'Surprised', 'Surprised', 'Surprised',\n",
       "       'Surprised', 'Surprised', 'Surprised', 'Surprised', 'Surprised',\n",
       "       'Surprised', 'Surprised', 'Surprised', 'Surprised', 'Surprised',\n",
       "       'Surprised', 'Surprised', 'Surprised', 'Surprised', 'Surprised',\n",
       "       'Surprised', 'Surprised', 'Surprised', 'Surprised', 'Surprised',\n",
       "       'Surprised', 'Surprised', 'Surprised', 'Surprised', 'Surprised',\n",
       "       'Surprised', 'Surprised', 'Surprised', 'Surprised', 'Surprised',\n",
       "       'Surprised', 'Surprised', 'Surprised', 'Surprised', 'Surprised',\n",
       "       'Surprised', 'Surprised', 'Disgusted', 'Surprised', 'Surprised',\n",
       "       'Disgusted', 'Surprised', 'Disgusted', 'Disgusted', 'Sad', 'Sad',\n",
       "       'Sad', 'Sad', 'Sad', 'Sad', 'Sad', 'Surprised', 'Surprised',\n",
       "       'Surprised', 'Surprised', 'Surprised', 'Surprised', 'Surprised',\n",
       "       'Surprised', 'Surprised', 'Surprised', 'Surprised', 'Surprised',\n",
       "       'Surprised', 'Surprised', 'Sad', 'Sad', 'Sad', 'Sad', 'Sad', 'Sad',\n",
       "       'Sad', 'Sad', 'Surprised', 'Surprised', 'Surprised', 'Surprised',\n",
       "       'Surprised', 'Surprised', 'Surprised', 'Surprised', 'Surprised',\n",
       "       'Surprised', 'Disgusted', 'Surprised', 'Disgusted', 'Disgusted',\n",
       "       'Disgusted', 'Disgusted', 'Disgusted', 'Disgusted', 'Disgusted',\n",
       "       'Disgusted', 'Disgusted', 'Disgusted', 'Disgusted', 'Disgusted',\n",
       "       'Disgusted', 'Disgusted', 'Disgusted', 'Disgusted', 'Disgusted',\n",
       "       'Disgusted', 'Disgusted', 'Disgusted', 'Disgusted', 'Disgusted',\n",
       "       'Disgusted', 'Disgusted', 'Disgusted', 'Disgusted', 'Disgusted',\n",
       "       'Disgusted', 'Disgusted', 'Disgusted', 'Disgusted', 'Disgusted',\n",
       "       'Disgusted', 'Disgusted', 'Disgusted', 'Disgusted', 'Disgusted',\n",
       "       'Disgusted', 'Disgusted', 'Disgusted', 'Disgusted', 'Disgusted',\n",
       "       'Disgusted', 'Disgusted', 'Disgusted', 'Disgusted', 'Disgusted',\n",
       "       'Disgusted', 'Disgusted', 'Disgusted', 'Disgusted', 'Disgusted',\n",
       "       'Disgusted', 'Disgusted', 'Disgusted', 'Disgusted', 'Disgusted',\n",
       "       'Disgusted', 'Disgusted', 'Disgusted', 'Disgusted', 'Disgusted',\n",
       "       'Disgusted', 'Disgusted', 'Disgusted', 'Disgusted', 'Disgusted',\n",
       "       'Disgusted', 'Disgusted', 'Disgusted', 'Disgusted', 'Disgusted',\n",
       "       'Disgusted', 'Disgusted', 'Disgusted', 'Disgusted', 'Disgusted',\n",
       "       'Disgusted', 'Disgusted', 'Disgusted', 'Disgusted', 'Disgusted',\n",
       "       'Disgusted', 'Disgusted', 'Disgusted', 'Disgusted', 'Disgusted',\n",
       "       'Disgusted', 'Disgusted', 'Disgusted', 'Disgusted', 'Disgusted',\n",
       "       'Disgusted', 'Disgusted', 'Disgusted', 'Disgusted', 'Disgusted',\n",
       "       'Disgusted', 'Disgusted', 'Disgusted', 'Disgusted', 'Disgusted',\n",
       "       'Disgusted', 'Disgusted', 'Disgusted', 'Disgusted', 'Disgusted',\n",
       "       'Disgusted', 'Disgusted', 'Disgusted', 'Disgusted', 'Disgusted',\n",
       "       'Disgusted', 'Disgusted', 'Disgusted', 'Disgusted', 'Disgusted',\n",
       "       'Disgusted', 'Disgusted', 'Disgusted', 'Disgusted', 'Disgusted'],\n",
       "      dtype=object)"
      ]
     },
     "execution_count": 100,
     "metadata": {},
     "output_type": "execute_result"
    }
   ],
   "source": [
    "testmodel.predict(x)"
   ]
  }
 ],
 "metadata": {
  "colab": {
   "provenance": []
  },
  "kernelspec": {
   "display_name": "Python 3 (ipykernel)",
   "language": "python",
   "name": "python3"
  },
  "language_info": {
   "codemirror_mode": {
    "name": "ipython",
    "version": 3
   },
   "file_extension": ".py",
   "mimetype": "text/x-python",
   "name": "python",
   "nbconvert_exporter": "python",
   "pygments_lexer": "ipython3",
   "version": "3.9.2"
  }
 },
 "nbformat": 4,
 "nbformat_minor": 5
}
